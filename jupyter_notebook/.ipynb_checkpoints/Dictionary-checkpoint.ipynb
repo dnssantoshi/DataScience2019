{
 "cells": [
  {
   "cell_type": "code",
   "execution_count": 207,
   "metadata": {},
   "outputs": [
    {
     "data": {
      "text/plain": [
       "'DICTIONARY'"
      ]
     },
     "execution_count": 207,
     "metadata": {},
     "output_type": "execute_result"
    }
   ],
   "source": [
    "'DICTIONARY' \n",
    "# Unordered , Key/Value \n",
    "# Keys- Immutable (Meaning only alphanumeric allowed), Values - Mutable (Dicts,Lists,Sets)\n",
    "# Duplicate keys added, then updates the value to the latest value\n",
    "# "
   ]
  },
  {
   "cell_type": "code",
   "execution_count": 208,
   "metadata": {},
   "outputs": [],
   "source": [
    " # Creating Dictionary from list of lists"
   ]
  },
  {
   "cell_type": "code",
   "execution_count": 209,
   "metadata": {},
   "outputs": [
    {
     "name": "stdout",
     "output_type": "stream",
     "text": [
      "------ .items() Method NOT REQUIRED when looping Dictionary only for keys----------------\n",
      "KEY: Zwirner David Gallery\n",
      "KEY: Zwirner & Wirth\n",
      "KEY: A Key\n",
      "KEY: B Key\n",
      "------ .items() Method REQUIRED when looping Dictionary for keys and value----------------\n",
      "KEY: Zwirner David Gallery | VALUE: 55121\n",
      "KEY: Zwirner & Wirth | VALUE: 55123\n",
      "KEY: A Key | VALUE: 55124\n",
      "KEY: B Key | VALUE: 55125\n"
     ]
    }
   ],
   "source": [
    "galleries = [['Zwirner David Gallery','55121'],# List of Lists\n",
    "             ['Zwirner & Wirth','55123'],\n",
    "             ['A Key','55124'],\n",
    "             ['B Key','55125']]\n",
    "art_galleries = {} # Create empty dictionary\n",
    "\n",
    "for name, zip_code in galleries: #TUPLE UNPACKING FOR LIST\n",
    "    art_galleries[name] = zip_code # creating key value pairs in dictionary\n",
    "    \n",
    "print(\"------ .items() Method NOT REQUIRED when looping Dictionary only for keys----------------\")\n",
    "for name in art_galleries:\n",
    "    print(\"KEY: \"+ name)\n",
    "\n",
    "print(\"------ .items() Method REQUIRED when looping Dictionary for keys and value----------------\")\n",
    "for name,zip_code in art_galleries.items():\n",
    "    print(\"KEY: \"+ name+\" | VALUE: \"+zip_code)"
   ]
  },
  {
   "cell_type": "code",
   "execution_count": 210,
   "metadata": {},
   "outputs": [
    {
     "data": {
      "text/plain": [
       "dict_keys(['Zwirner David Gallery', 'Zwirner & Wirth', 'A Key', 'B Key'])"
      ]
     },
     "execution_count": 210,
     "metadata": {},
     "output_type": "execute_result"
    }
   ],
   "source": [
    "art_galleries.keys() #to get all keys in dictionary"
   ]
  },
  {
   "cell_type": "code",
   "execution_count": 211,
   "metadata": {},
   "outputs": [
    {
     "data": {
      "text/plain": [
       "dict_keys"
      ]
     },
     "execution_count": 211,
     "metadata": {},
     "output_type": "execute_result"
    }
   ],
   "source": [
    "type(art_galleries.keys())"
   ]
  },
  {
   "cell_type": "code",
   "execution_count": 212,
   "metadata": {},
   "outputs": [
    {
     "data": {
      "text/plain": [
       "'55121'"
      ]
     },
     "execution_count": 212,
     "metadata": {},
     "output_type": "execute_result"
    }
   ],
   "source": [
    "art_galleries.get('Zwirner David Gallery') # Safe operation to get the key's value from Dictionary"
   ]
  },
  {
   "cell_type": "code",
   "execution_count": 213,
   "metadata": {
    "scrolled": false
   },
   "outputs": [
    {
     "data": {
      "text/plain": [
       "'# When key not found - NOT safe operation by []'"
      ]
     },
     "execution_count": 213,
     "metadata": {},
     "output_type": "execute_result"
    }
   ],
   "source": [
    "'# When key not found - NOT safe operation by []'\n",
    "# art_galleries['Louvre'] # When key not found - NOT safe operation by []\n",
    "# ---------------------------------------------------------------------------\n",
    "# KeyError                                  Traceback (most recent call last)\n",
    "# <ipython-input-82-dc80639cbd75> in <module>\n",
    "# ----> 1 art_galleries['Louvre'] # When key not found - NOT safe operation by []\n",
    "\n",
    "# KeyError: 'Louvre'\n"
   ]
  },
  {
   "cell_type": "code",
   "execution_count": 214,
   "metadata": {},
   "outputs": [],
   "source": [
    "art_galleries.get('Louvre') # Safe operation to get the key's value from Dictionary - Returns None"
   ]
  },
  {
   "cell_type": "code",
   "execution_count": 215,
   "metadata": {},
   "outputs": [
    {
     "data": {
      "text/plain": [
       "NoneType"
      ]
     },
     "execution_count": 215,
     "metadata": {},
     "output_type": "execute_result"
    }
   ],
   "source": [
    "type(art_galleries.get('Louvre')) # <class 'NoneType'>"
   ]
  },
  {
   "cell_type": "code",
   "execution_count": 216,
   "metadata": {},
   "outputs": [
    {
     "data": {
      "text/plain": [
       "'Key is Not Found'"
      ]
     },
     "execution_count": 216,
     "metadata": {},
     "output_type": "execute_result"
    }
   ],
   "source": [
    "art_galleries.get('Louvre','Key is Not Found') # Safe operation to get the key's value from Dictionary - \n",
    "                                        # Returns the second argument passed if key not found"
   ]
  },
  {
   "cell_type": "code",
   "execution_count": 217,
   "metadata": {},
   "outputs": [
    {
     "data": {
      "text/plain": [
       "'When sorted or looping over Dictionary we loop over keys'"
      ]
     },
     "execution_count": 217,
     "metadata": {},
     "output_type": "execute_result"
    }
   ],
   "source": [
    "'When sorted or looping over Dictionary we loop over keys'"
   ]
  },
  {
   "cell_type": "code",
   "execution_count": 218,
   "metadata": {},
   "outputs": [
    {
     "data": {
      "text/plain": [
       "['Zwirner David Gallery', 'Zwirner & Wirth', 'B Key', 'A Key']"
      ]
     },
     "execution_count": 218,
     "metadata": {},
     "output_type": "execute_result"
    }
   ],
   "source": [
    "sorted(art_galleries,reverse=True)"
   ]
  },
  {
   "cell_type": "code",
   "execution_count": 219,
   "metadata": {},
   "outputs": [],
   "source": [
    "# To - Do for sorted(iterable,key=None,reverse=False)\n",
    "# What does 'key' argument mean here ???"
   ]
  },
  {
   "cell_type": "code",
   "execution_count": 220,
   "metadata": {},
   "outputs": [
    {
     "data": {
      "text/plain": [
       "['A Key', 'B Key', 'Zwirner & Wirth', 'Zwirner David Gallery']"
      ]
     },
     "execution_count": 220,
     "metadata": {},
     "output_type": "execute_result"
    }
   ],
   "source": [
    "sorted(art_galleries,reverse=False) # Sorted returns list of keys when used over dictionary"
   ]
  },
  {
   "cell_type": "code",
   "execution_count": 221,
   "metadata": {},
   "outputs": [
    {
     "data": {
      "text/plain": [
       "['A Key', 'B Key', 'Zwirner & Wirth']"
      ]
     },
     "execution_count": 221,
     "metadata": {},
     "output_type": "execute_result"
    }
   ],
   "source": [
    "sorted(art_galleries,reverse=False)[:3]  # output of sortd is a list we can subset it using slice(:)"
   ]
  },
  {
   "cell_type": "code",
   "execution_count": 222,
   "metadata": {},
   "outputs": [
    {
     "data": {
      "text/plain": [
       "'dictionary can contain another dictionary as the value of a key'"
      ]
     },
     "execution_count": 222,
     "metadata": {},
     "output_type": "execute_result"
    }
   ],
   "source": [
    "# Dict of Dicts\n",
    "'dictionary can contain another dictionary as the value of a key'"
   ]
  },
  {
   "cell_type": "code",
   "execution_count": 223,
   "metadata": {},
   "outputs": [],
   "source": [
    "# Dealing with nested data \n",
    "my_dict={'one':{\"1\":\"first\"},\n",
    "     'two':{\"2\":\"second\"},\n",
    "     'three':{\"3\":\"third\"},\n",
    "     'four':{\"4\":\"fourth\"}}\n"
   ]
  },
  {
   "cell_type": "code",
   "execution_count": 224,
   "metadata": {},
   "outputs": [
    {
     "data": {
      "text/plain": [
       "{'1': 'first'}"
      ]
     },
     "execution_count": 224,
     "metadata": {},
     "output_type": "execute_result"
    }
   ],
   "source": [
    "my_dict.get('one',\"key Not found\")"
   ]
  },
  {
   "cell_type": "code",
   "execution_count": 225,
   "metadata": {},
   "outputs": [
    {
     "data": {
      "text/plain": [
       "'first'"
      ]
     },
     "execution_count": 225,
     "metadata": {},
     "output_type": "execute_result"
    }
   ],
   "source": [
    "my_dict.get('one',\"key Not found\").get(\"1\",\"Nested key Not found\")"
   ]
  },
  {
   "cell_type": "code",
   "execution_count": 226,
   "metadata": {},
   "outputs": [
    {
     "data": {
      "text/plain": [
       "'first'"
      ]
     },
     "execution_count": 226,
     "metadata": {},
     "output_type": "execute_result"
    }
   ],
   "source": [
    "my_dict['one'][\"1\"]"
   ]
  },
  {
   "cell_type": "code",
   "execution_count": 227,
   "metadata": {},
   "outputs": [
    {
     "data": {
      "text/plain": [
       "'second'"
      ]
     },
     "execution_count": 227,
     "metadata": {},
     "output_type": "execute_result"
    }
   ],
   "source": [
    "my_dict['two'].get(\"2\")"
   ]
  },
  {
   "cell_type": "code",
   "execution_count": 228,
   "metadata": {},
   "outputs": [
    {
     "data": {
      "text/plain": [
       "'Adding and Extending Dictionaries'"
      ]
     },
     "execution_count": 228,
     "metadata": {},
     "output_type": "execute_result"
    }
   ],
   "source": [
    "'Adding and Extending Dictionaries'\n",
    "# Assignment ''= operator\n",
    "# .update() method - to update a dict from another dict, tuples or keywords"
   ]
  },
  {
   "cell_type": "code",
   "execution_count": 229,
   "metadata": {},
   "outputs": [
    {
     "name": "stdout",
     "output_type": "stream",
     "text": [
      "{'Zwirner David Gallery': '55121', 'Zwirner & Wirth': '55123', 'A Key': '55124', 'B Key': '55125', 'New Key': {'Nyabinghi Africian Gift Shop': '(212) 566-3336'}, '10007': {'Nyabinghi Africian Gift Shop': '(212) 566-3336'}}\n"
     ]
    }
   ],
   "source": [
    "# Dictionary ADD\n",
    "galleries_10007={'Nyabinghi Africian Gift Shop': '(212) 566-3336'}\n",
    "# Add new key/value to existing art_galleries Dict\n",
    "art_galleries['New Key'] = galleries_10007\n",
    "art_galleries['10007'] = galleries_10007\n",
    "\n",
    "print (art_galleries)"
   ]
  },
  {
   "cell_type": "code",
   "execution_count": 230,
   "metadata": {},
   "outputs": [],
   "source": [
    "'Del instruction for deleting elements from Dictionary'\n",
    "# Del - NOT a safe operation throws Key Error when key is not found\n",
    "# del will throw a KeyError if the key you are trying to delete does not exist. \n",
    "# You can not use it with the .get() method to safely delete items; \n",
    "# however, it can be used with try: catch:\n",
    "del art_galleries['10007']"
   ]
  },
  {
   "cell_type": "code",
   "execution_count": 231,
   "metadata": {},
   "outputs": [
    {
     "data": {
      "text/plain": [
       "'Dictionary - del insruction KeyError'"
      ]
     },
     "execution_count": 231,
     "metadata": {},
     "output_type": "execute_result"
    }
   ],
   "source": [
    "'Dictionary - del insruction KeyError'\n",
    "# del art_galleries['Unknown Key']\n",
    "# ---------------------------------------------------------------------------\n",
    "# KeyError                                  Traceback (most recent call last)\n",
    "# <ipython-input-201-0a8f3860f450> in <module>\n",
    "# ----> 1 del art_galleries['Unknown Key']\n",
    "\n",
    "# KeyError: 'Unknown Key'\n"
   ]
  },
  {
   "cell_type": "code",
   "execution_count": 236,
   "metadata": {},
   "outputs": [
    {
     "data": {
      "text/plain": [
       "{}"
      ]
     },
     "execution_count": 236,
     "metadata": {},
     "output_type": "execute_result"
    }
   ],
   "source": [
    "# If you want to save that deleted data into another variable for further processing, \n",
    "# the .pop() dictionary method will do just that. \n",
    "# You can supply a default value for .pop() much like you did for .get() to safely deal with missing keys. \n",
    "# It's also typical to use .pop() instead of del since it is a safe method.\n",
    "art_galleries.pop('Unknown Key',{})"
   ]
  },
  {
   "cell_type": "code",
   "execution_count": 238,
   "metadata": {},
   "outputs": [
    {
     "data": {
      "text/plain": [
       "\"art_galleries.pop('Unknown Key')\""
      ]
     },
     "execution_count": 238,
     "metadata": {},
     "output_type": "execute_result"
    }
   ],
   "source": [
    "\"art_galleries.pop('Unknown Key')\"\n",
    "# ---------------------------------------------------------------------------\n",
    "# KeyError                                  Traceback (most recent call last)\n",
    "# <ipython-input-237-f6669f1954a9> in <module>\n",
    "# ----> 1 art_galleries.pop('Unknown Key')\n",
    "\n",
    "# KeyError: 'Unknown Key'"
   ]
  },
  {
   "cell_type": "code",
   "execution_count": null,
   "metadata": {},
   "outputs": [],
   "source": []
  },
  {
   "cell_type": "code",
   "execution_count": null,
   "metadata": {},
   "outputs": [],
   "source": []
  },
  {
   "cell_type": "code",
   "execution_count": null,
   "metadata": {},
   "outputs": [],
   "source": []
  },
  {
   "cell_type": "code",
   "execution_count": null,
   "metadata": {},
   "outputs": [],
   "source": []
  },
  {
   "cell_type": "code",
   "execution_count": 232,
   "metadata": {},
   "outputs": [
    {
     "ename": "AttributeError",
     "evalue": "'str' object has no attribute 'update'",
     "output_type": "error",
     "traceback": [
      "\u001b[0;31m---------------------------------------------------------------------------\u001b[0m",
      "\u001b[0;31mAttributeError\u001b[0m                            Traceback (most recent call last)",
      "\u001b[0;32m<ipython-input-232-d676aa82ea08>\u001b[0m in \u001b[0;36m<module>\u001b[0;34m\u001b[0m\n\u001b[1;32m      3\u001b[0m       \u001b[0;34m(\u001b[0m\u001b[0;34m'Updated Value'\u001b[0m\u001b[0;34m,\u001b[0m \u001b[0;34m'(718) 375-8006'\u001b[0m\u001b[0;34m)\u001b[0m\u001b[0;34m,\u001b[0m\u001b[0;34m\u001b[0m\u001b[0;34m\u001b[0m\u001b[0m\n\u001b[1;32m      4\u001b[0m       ('using update method', '(718) 377-8762')]\n\u001b[0;32m----> 5\u001b[0;31m \u001b[0mart_galleries\u001b[0m\u001b[0;34m[\u001b[0m\u001b[0;34m'A Key'\u001b[0m\u001b[0;34m]\u001b[0m\u001b[0;34m.\u001b[0m\u001b[0mupdate\u001b[0m\u001b[0;34m(\u001b[0m\u001b[0;34m[\u001b[0m\u001b[0;34m(\u001b[0m\u001b[0;34m'A keys '\u001b[0m\u001b[0;34m,\u001b[0m \u001b[0;34m'(718) 763-5473'\u001b[0m\u001b[0;34m)\u001b[0m\u001b[0;34m]\u001b[0m\u001b[0;34m)\u001b[0m\u001b[0;34m\u001b[0m\u001b[0;34m\u001b[0m\u001b[0m\n\u001b[0m",
      "\u001b[0;31mAttributeError\u001b[0m: 'str' object has no attribute 'update'"
     ]
    }
   ],
   "source": [
    "# updating the dictionary with new Value( dictionary, tuple, keywords)\n",
    "# galleries_UpdatedValue = [('A keys ', '(718) 763-5473'),\n",
    "#       ('Updated Value', '(718) 375-8006'),\n",
    "#       ('using update method', '(718) 377-8762')]\n",
    "# art_galleries['A Key'].update([('A keys ', '(718) 763-5473')])\n",
    "# ---------------------------------------------------------------------------\n",
    "# AttributeError                            Traceback (most recent call last)\n",
    "# <ipython-input-232-d676aa82ea08> in <module>\n",
    "#       3       ('Updated Value', '(718) 375-8006'),\n",
    "#       4       ('using update method', '(718) 377-8762')]\n",
    "# ----> 5 art_galleries['A Key'].update([('A keys ', '(718) 763-5473')])\n",
    "\n",
    "# AttributeError: 'str' object has no attribute 'update'"
   ]
  },
  {
   "cell_type": "code",
   "execution_count": 239,
   "metadata": {},
   "outputs": [
    {
     "name": "stdout",
     "output_type": "stream",
     "text": [
      "55124\n"
     ]
    }
   ],
   "source": [
    "print(art_galleries['A Key'])"
   ]
  },
  {
   "cell_type": "code",
   "execution_count": null,
   "metadata": {},
   "outputs": [],
   "source": [
    "# galleries_10007 ={'Nyabinghi Africian Gift Shop': '(212) 566-3336'}\n",
    "# art_galleries['10007'] = galleries_10007\n",
    "# galleries_11234 = [('A J ARTS LTD', '(718) 763-5473'),\n",
    "#      ('Doug Meyer Fine Art', '(718) 375-8006'),\n",
    "#      ('Portrait Gallery', '(718) 377-8762')]\n",
    "# art_galleries['Zwirner & Wirth'].update(galleries_11234)\n",
    "# print(art_galleries['11234'])\n"
   ]
  },
  {
   "cell_type": "code",
   "execution_count": 243,
   "metadata": {},
   "outputs": [
    {
     "data": {
      "text/plain": [
       "'Checking dictionaries for data'"
      ]
     },
     "execution_count": 243,
     "metadata": {},
     "output_type": "execute_result"
    }
   ],
   "source": [
    "'Checking dictionaries for data'\n",
    "# .get() does a lot of work to check for a key\n",
    "# 'in operator is much more efficient and clearer'"
   ]
  },
  {
   "cell_type": "code",
   "execution_count": 240,
   "metadata": {},
   "outputs": [
    {
     "data": {
      "text/plain": [
       "True"
      ]
     },
     "execution_count": 240,
     "metadata": {},
     "output_type": "execute_result"
    }
   ],
   "source": [
    "'A Key' in art_galleries"
   ]
  },
  {
   "cell_type": "code",
   "execution_count": 245,
   "metadata": {},
   "outputs": [
    {
     "data": {
      "text/plain": [
       "'Python csv module'"
      ]
     },
     "execution_count": 245,
     "metadata": {},
     "output_type": "execute_result"
    }
   ],
   "source": [
    "'Reading from a file using CSV reader'\n",
    "'Python csv module'\n",
    "# open() function provides a variable that represents a file, takes a path and a mode\n",
    "# csv.reader() reads a file object and returns the lines from the file as tuples\n",
    "# .close() method closes file objects"
   ]
  },
  {
   "cell_type": "code",
   "execution_count": 246,
   "metadata": {},
   "outputs": [
    {
     "ename": "FileNotFoundError",
     "evalue": "[Errno 2] No such file or directory: 'flipkart_sample.csv'",
     "output_type": "error",
     "traceback": [
      "\u001b[0;31m---------------------------------------------------------------------------\u001b[0m",
      "\u001b[0;31mFileNotFoundError\u001b[0m                         Traceback (most recent call last)",
      "\u001b[0;32m<ipython-input-246-691c5cc3c97a>\u001b[0m in \u001b[0;36m<module>\u001b[0;34m\u001b[0m\n\u001b[1;32m      1\u001b[0m \u001b[0;32mimport\u001b[0m \u001b[0mcsv\u001b[0m\u001b[0;34m\u001b[0m\u001b[0;34m\u001b[0m\u001b[0m\n\u001b[0;32m----> 2\u001b[0;31m \u001b[0mcsvfile\u001b[0m \u001b[0;34m=\u001b[0m \u001b[0mopen\u001b[0m\u001b[0;34m(\u001b[0m\u001b[0;34m'flipkart_sample.csv'\u001b[0m\u001b[0;34m,\u001b[0m \u001b[0;34m'r'\u001b[0m\u001b[0;34m)\u001b[0m\u001b[0;34m\u001b[0m\u001b[0;34m\u001b[0m\u001b[0m\n\u001b[0m\u001b[1;32m      3\u001b[0m \u001b[0;32mfor\u001b[0m \u001b[0mrow\u001b[0m \u001b[0;32min\u001b[0m \u001b[0mcsv\u001b[0m\u001b[0;34m.\u001b[0m\u001b[0mreader\u001b[0m\u001b[0;34m(\u001b[0m\u001b[0mcsvfile\u001b[0m\u001b[0;34m)\u001b[0m\u001b[0;34m:\u001b[0m\u001b[0;34m\u001b[0m\u001b[0;34m\u001b[0m\u001b[0m\n\u001b[1;32m      4\u001b[0m     \u001b[0mprint\u001b[0m\u001b[0;34m(\u001b[0m\u001b[0mrow\u001b[0m\u001b[0;34m)\u001b[0m\u001b[0;34m\u001b[0m\u001b[0;34m\u001b[0m\u001b[0m\n\u001b[1;32m      5\u001b[0m \u001b[0;31m# ['NAME', 'the_geom', 'TEL', 'URL', 'ADDRESS1', 'ADDRESS2', 'CITY', 'ZIP']\u001b[0m\u001b[0;34m\u001b[0m\u001b[0;34m\u001b[0m\u001b[0;34m\u001b[0m\u001b[0m\n",
      "\u001b[0;31mFileNotFoundError\u001b[0m: [Errno 2] No such file or directory: 'flipkart_sample.csv'"
     ]
    }
   ],
   "source": [
    "import csv\n",
    "csvfile = open('flipkart_sample.csv', 'r')\n",
    "for row in csv.reader(csvfile):\n",
    "    print(row)\n",
    "# ['NAME', 'the_geom', 'TEL', 'URL', 'ADDRESS1', 'ADDRESS2', 'CITY', 'ZIP']\n",
    "# [\"O'reilly William & Co Ltd\",'POINT (-73.96273074561996 40.773800871637576)',\n",
    "# '(212) 396-1822', '52 E 76th St', '', 'New York', '10021']\n",
    "csvfile.close()"
   ]
  },
  {
   "cell_type": "code",
   "execution_count": 247,
   "metadata": {},
   "outputs": [
    {
     "data": {
      "text/plain": [
       "'Creating a dictionary from a file'"
      ]
     },
     "execution_count": 247,
     "metadata": {},
     "output_type": "execute_result"
    }
   ],
   "source": [
    "'Creating a dictionary from a file'\n",
    "# Often we want to go from CSV file to dictionary\n",
    "# DictReader does just that\n",
    "# If data doesn't have a header row, you can pass in the column names"
   ]
  },
  {
   "cell_type": "code",
   "execution_count": null,
   "metadata": {},
   "outputs": [],
   "source": [
    "import csv\n",
    "\n",
    "csvfile = open('ART_GALLERY.csv', 'r')\n",
    "\n",
    "for row in csv.DictReader(csvfile):\n",
    "    print(row)\n",
    "# OrderedDict([('NAME', 'Odyssia Gallery'),\n",
    "# ('the_geom', 'POINT (-73.96269813635554 40.7618747512849)'),\n",
    "# ('TEL', '(212) 486-7338'),\n",
    "# ('URL', 'http://www.livevillage.com/newyork/art/odyssia-gallery.html'),\n",
    "# ('ADDRESS1', '305 E 61st St'),\n",
    "# ('ADDRESS2', ''),\n",
    "# ('CITY', 'New York'), ('ZIP', '10021')])\n",
    "csvfile.close()"
   ]
  },
  {
   "cell_type": "code",
   "execution_count": null,
   "metadata": {},
   "outputs": [],
   "source": []
  },
  {
   "cell_type": "code",
   "execution_count": null,
   "metadata": {},
   "outputs": [],
   "source": []
  },
  {
   "cell_type": "code",
   "execution_count": null,
   "metadata": {},
   "outputs": [],
   "source": []
  },
  {
   "cell_type": "code",
   "execution_count": null,
   "metadata": {},
   "outputs": [],
   "source": []
  },
  {
   "cell_type": "code",
   "execution_count": null,
   "metadata": {},
   "outputs": [],
   "source": []
  },
  {
   "cell_type": "code",
   "execution_count": null,
   "metadata": {},
   "outputs": [],
   "source": []
  },
  {
   "cell_type": "code",
   "execution_count": null,
   "metadata": {},
   "outputs": [],
   "source": []
  },
  {
   "cell_type": "code",
   "execution_count": null,
   "metadata": {},
   "outputs": [],
   "source": []
  },
  {
   "cell_type": "code",
   "execution_count": null,
   "metadata": {},
   "outputs": [],
   "source": []
  },
  {
   "cell_type": "code",
   "execution_count": null,
   "metadata": {},
   "outputs": [],
   "source": []
  },
  {
   "cell_type": "code",
   "execution_count": null,
   "metadata": {},
   "outputs": [],
   "source": []
  },
  {
   "cell_type": "code",
   "execution_count": null,
   "metadata": {},
   "outputs": [],
   "source": []
  }
 ],
 "metadata": {
  "kernelspec": {
   "display_name": "Python 3",
   "language": "python",
   "name": "python3"
  },
  "language_info": {
   "codemirror_mode": {
    "name": "ipython",
    "version": 3
   },
   "file_extension": ".py",
   "mimetype": "text/x-python",
   "name": "python",
   "nbconvert_exporter": "python",
   "pygments_lexer": "ipython3",
   "version": "3.7.3"
  }
 },
 "nbformat": 4,
 "nbformat_minor": 2
}
