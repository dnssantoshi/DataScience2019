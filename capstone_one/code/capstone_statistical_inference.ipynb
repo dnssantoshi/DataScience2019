{
 "cells": [
  {
   "cell_type": "markdown",
   "metadata": {},
   "source": [
    " <a id='TOC'></a>\n",
    "## Statistical Analysis - Table of Contents\n",
    "\n",
    "\n",
    "#### 1. <a href='#ReadWrangledDataset'>Read wrangled dataset</a>\n",
    "#### 2. <a href='#ImportPackages'>Import required packages</a>\n",
    "#### 3. <a href='#setPlotProps'>Set default plot properties</a>\n",
    "#### 3. <a href='#defineFunctions'>Define functions</a>\n",
    "#### 4. <a href='#stat'>Statistical Analysis</a>"
   ]
  },
  {
   "cell_type": "markdown",
   "metadata": {},
   "source": [
    " <a id='ReadWrangledDataset'></a>\n",
    " #### Read wrangled dataset\n",
    " <a href='#TOC'>Table Of Contents</a>"
   ]
  },
  {
   "cell_type": "code",
   "execution_count": 135,
   "metadata": {},
   "outputs": [],
   "source": [
    "# Read the wrangled dataset from another jupyter notebook\n",
    "%store -r flipkart_df"
   ]
  },
  {
   "cell_type": "markdown",
   "metadata": {},
   "source": [
    " <a id='ImportPackages'></a>\n",
    " #### Import required packages\n",
    " <a href='#TOC'>Table Of Contents</a>"
   ]
  },
  {
   "cell_type": "code",
   "execution_count": 136,
   "metadata": {},
   "outputs": [],
   "source": [
    "# import packages\n",
    "import numpy as np\n",
    "import matplotlib.pyplot as plt\n",
    "import seaborn as sns"
   ]
  },
  {
   "cell_type": "markdown",
   "metadata": {},
   "source": [
    " <a id='setPlotProps'></a>\n",
    " #### Set default plot properties\n",
    " <a href='#TOC'>Table Of Contents</a>"
   ]
  },
  {
   "cell_type": "code",
   "execution_count": 137,
   "metadata": {},
   "outputs": [],
   "source": [
    "# setting default plot properties\n",
    "sns.set(style=\"whitegrid\")\n",
    "_ = plt.rcParams[\"figure.figsize\"] = (12,8)"
   ]
  },
  {
   "cell_type": "markdown",
   "metadata": {},
   "source": [
    " <a id='defineFunctions'></a>\n",
    "#### Define functions\n",
    " <a href='#TOC'>Table Of Contents</a>"
   ]
  },
  {
   "cell_type": "code",
   "execution_count": 138,
   "metadata": {},
   "outputs": [],
   "source": [
    "# Empirical cummulative distribution function\n",
    "def ecdf(data):\n",
    "    ''' Compute ECDF for a one-dimensional array of measurements. '''\n",
    "    # Number of data points: n\n",
    "    n = len(data)\n",
    "\n",
    "    # x-data for the ECDF: x\n",
    "    x = np.sort(data)\n",
    "\n",
    "    # y-data for the ECDF: y\n",
    "    y = np.arange(1, n + 1) / n\n",
    "\n",
    "    return x, y"
   ]
  },
  {
   "cell_type": "code",
   "execution_count": 139,
   "metadata": {},
   "outputs": [],
   "source": [
    "# Plot the ecdf\n",
    "def plot_ecdf(data, label_name):\n",
    "    ''' Plot the ECDF for one-dimensional array '''\n",
    "    x, y = ecdf(data)\n",
    "    _ = plt.plot(x, y, marker='.', linestyle='none', label=label_name)\n",
    "    _ = plt.title(\"Empirical CDF\")\n",
    "    _ = plt.xlabel(\"Price\")\n",
    "    _ = plt.ylabel(\"ECDF\")\n",
    "    _ = plt.legend()"
   ]
  },
  {
   "cell_type": "code",
   "execution_count": 140,
   "metadata": {},
   "outputs": [],
   "source": [
    "# Bootstrap Sampling\n",
    "def bootstrap_replicates(x,func,size=10000):\n",
    "    ''' Calculate the bootstrap replicates for a one-dimensional array '''\n",
    "    bs_replicates = np.empty(size)\n",
    "    for i in range(size):\n",
    "        bs_sample = np.random.choice(x,size=len(x))\n",
    "        bs_replicates[i] = func(bs_sample)\n",
    "    return bs_replicates"
   ]
  },
  {
   "cell_type": "code",
   "execution_count": 141,
   "metadata": {},
   "outputs": [],
   "source": [
    "# Permutation sample\n",
    "def perm_sample(x,y):\n",
    "    ''' Compute a permutation sample for two one-dimensional arrays'''\n",
    "    con=np.concatenate((x,y))\n",
    "    perm=np.random.permutation(con)\n",
    "    perm_x=perm[:len(x)]\n",
    "    perm_y=perm[len(x):]\n",
    "    return perm_x,perm_y"
   ]
  },
  {
   "cell_type": "code",
   "execution_count": 142,
   "metadata": {},
   "outputs": [],
   "source": [
    "# Plot the ecdf\n",
    "def plot_perm_ecdf(x_org_0,x_org_1,size=100) :\n",
    "    for _ in range(size):\n",
    "        perm0,perm1=perm_sample(x_org_0,x_org_1)\n",
    "        x_0,y_0 = ecdf(perm0)\n",
    "        x_1,y_1 = ecdf(perm1)\n",
    "        _ = plt.plot(x_0,y_0,marker='.',linestyle='none',alpha=0.4)\n",
    "        _ = plt.plot(x_1,y_1,marker='.',linestyle='none',alpha=0.4)"
   ]
  },
  {
   "cell_type": "markdown",
   "metadata": {},
   "source": [
    "<a id='stat'></a>\n",
    "####  Is the discount price distribution same for FK_Advantage products vs non FK_advantage products ?\n",
    "As we are concerned about the distribution of the values - we can perform a bootstrap\n",
    "\n",
    "permutation test to find if there is really a difference in distributions?\n",
    "\n",
    "Null Hypothesis: Both have identical discount price distributions\n",
    "\n",
    "Alternate Hypothesis: Discount price distributions are not same\n",
    "\n",
    "##### Verify if both have the identical distributions using Bootstrapping & Hypothesis testing.\n",
    "\n",
    " <a href='#TOC'>Table Of Contents</a>\n"
   ]
  },
  {
   "cell_type": "code",
   "execution_count": 143,
   "metadata": {},
   "outputs": [
    {
     "data": {
      "text/html": [
       "<div>\n",
       "<style scoped>\n",
       "    .dataframe tbody tr th:only-of-type {\n",
       "        vertical-align: middle;\n",
       "    }\n",
       "\n",
       "    .dataframe tbody tr th {\n",
       "        vertical-align: top;\n",
       "    }\n",
       "\n",
       "    .dataframe thead th {\n",
       "        text-align: right;\n",
       "    }\n",
       "</style>\n",
       "<table border=\"1\" class=\"dataframe\">\n",
       "  <thead>\n",
       "    <tr style=\"text-align: right;\">\n",
       "      <th></th>\n",
       "      <th>product_category_tree</th>\n",
       "    </tr>\n",
       "  </thead>\n",
       "  <tbody>\n",
       "    <tr>\n",
       "      <th>Clothing</th>\n",
       "      <td>6197</td>\n",
       "    </tr>\n",
       "    <tr>\n",
       "      <th>Jewellery</th>\n",
       "      <td>3531</td>\n",
       "    </tr>\n",
       "    <tr>\n",
       "      <th>Footwear</th>\n",
       "      <td>1227</td>\n",
       "    </tr>\n",
       "    <tr>\n",
       "      <th>Mobiles &amp; Accessories</th>\n",
       "      <td>1099</td>\n",
       "    </tr>\n",
       "  </tbody>\n",
       "</table>\n",
       "</div>"
      ],
      "text/plain": [
       "                       product_category_tree\n",
       "Clothing                                6197\n",
       "Jewellery                               3531\n",
       "Footwear                                1227\n",
       "Mobiles & Accessories                   1099"
      ]
     },
     "execution_count": 143,
     "metadata": {},
     "output_type": "execute_result"
    }
   ],
   "source": [
    "# Considering top 4 categories - with highest number of products\n",
    "pd=flipkart_df.product_category_tree.value_counts().sort_values(ascending=False).head(4)\n",
    "pd.to_frame().head()"
   ]
  },
  {
   "cell_type": "code",
   "execution_count": 144,
   "metadata": {},
   "outputs": [],
   "source": [
    "# Extracting top 4 categories as list\n",
    "top_4_categories = list(pd.index)"
   ]
  },
  {
   "cell_type": "code",
   "execution_count": 145,
   "metadata": {},
   "outputs": [],
   "source": [
    "# Extracting dataframes specific to each category from wrangled dataset(flipkart_df)\n",
    "def get_category_df(list):\n",
    "    ''' Get dataframes specific to each category '''\n",
    "    return [flipkart_df[flipkart_df.product_category_tree == i] for i in list]"
   ]
  },
  {
   "cell_type": "code",
   "execution_count": 146,
   "metadata": {},
   "outputs": [
    {
     "data": {
      "text/html": [
       "<div>\n",
       "<style scoped>\n",
       "    .dataframe tbody tr th:only-of-type {\n",
       "        vertical-align: middle;\n",
       "    }\n",
       "\n",
       "    .dataframe tbody tr th {\n",
       "        vertical-align: top;\n",
       "    }\n",
       "\n",
       "    .dataframe thead th {\n",
       "        text-align: right;\n",
       "    }\n",
       "</style>\n",
       "<table border=\"1\" class=\"dataframe\">\n",
       "  <thead>\n",
       "    <tr style=\"text-align: right;\">\n",
       "      <th></th>\n",
       "      <th>crawl_timestamp</th>\n",
       "      <th>product_url</th>\n",
       "      <th>product_name</th>\n",
       "      <th>product_category_tree</th>\n",
       "      <th>retail_price</th>\n",
       "      <th>final_price</th>\n",
       "      <th>image</th>\n",
       "      <th>is_FK_Advantage_product</th>\n",
       "      <th>description</th>\n",
       "      <th>product_rating</th>\n",
       "      <th>overall_rating</th>\n",
       "      <th>brand</th>\n",
       "      <th>product_specifications</th>\n",
       "      <th>discounted_price</th>\n",
       "    </tr>\n",
       "    <tr>\n",
       "      <th>pid</th>\n",
       "      <th></th>\n",
       "      <th></th>\n",
       "      <th></th>\n",
       "      <th></th>\n",
       "      <th></th>\n",
       "      <th></th>\n",
       "      <th></th>\n",
       "      <th></th>\n",
       "      <th></th>\n",
       "      <th></th>\n",
       "      <th></th>\n",
       "      <th></th>\n",
       "      <th></th>\n",
       "      <th></th>\n",
       "    </tr>\n",
       "  </thead>\n",
       "  <tbody>\n",
       "    <tr>\n",
       "      <th>MBPEJMV5GAY9SZX5</th>\n",
       "      <td>2016-06-20 08:49:52</td>\n",
       "      <td>http://www.flipkart.com/casedeal-microsoft-nok...</td>\n",
       "      <td>CASEDEAL Microsoft Nokia lumia x2 Back Panel</td>\n",
       "      <td>Mobiles &amp; Accessories</td>\n",
       "      <td>1999.0</td>\n",
       "      <td>380.0</td>\n",
       "      <td>http://img6a.flixcart.com/image/mobile-panel/z...</td>\n",
       "      <td>False</td>\n",
       "      <td>Specifications of CASEDEAL Microsoft Nokia lum...</td>\n",
       "      <td>NaN</td>\n",
       "      <td>NaN</td>\n",
       "      <td>CASEDEAL Microsoft Nokia lumia x2 Back Panel</td>\n",
       "      <td>{\"product_specification\"=&gt;[{\"key\"=&gt;\"Brand\", \"v...</td>\n",
       "      <td>1619.0</td>\n",
       "    </tr>\n",
       "    <tr>\n",
       "      <th>ACCEJGYYMTQR4JXY</th>\n",
       "      <td>2016-06-12 08:33:38</td>\n",
       "      <td>http://www.flipkart.com/acm-pouch-swipe-elite-...</td>\n",
       "      <td>ACM Pouch for Swipe Elite Plus</td>\n",
       "      <td>Mobiles &amp; Accessories</td>\n",
       "      <td>990.0</td>\n",
       "      <td>339.0</td>\n",
       "      <td>http://img5a.flixcart.com/image/cases-covers/p...</td>\n",
       "      <td>False</td>\n",
       "      <td>Key Features of ACM Pouch for Swipe Elite Plus...</td>\n",
       "      <td>NaN</td>\n",
       "      <td>NaN</td>\n",
       "      <td>ACM Pouch for Swipe Elite Plus</td>\n",
       "      <td>{\"product_specification\"=&gt;[{\"key\"=&gt;\"Brand\", \"v...</td>\n",
       "      <td>651.0</td>\n",
       "    </tr>\n",
       "  </tbody>\n",
       "</table>\n",
       "</div>"
      ],
      "text/plain": [
       "                      crawl_timestamp  \\\n",
       "pid                                     \n",
       "MBPEJMV5GAY9SZX5  2016-06-20 08:49:52   \n",
       "ACCEJGYYMTQR4JXY  2016-06-12 08:33:38   \n",
       "\n",
       "                                                        product_url  \\\n",
       "pid                                                                   \n",
       "MBPEJMV5GAY9SZX5  http://www.flipkart.com/casedeal-microsoft-nok...   \n",
       "ACCEJGYYMTQR4JXY  http://www.flipkart.com/acm-pouch-swipe-elite-...   \n",
       "\n",
       "                                                  product_name  \\\n",
       "pid                                                              \n",
       "MBPEJMV5GAY9SZX5  CASEDEAL Microsoft Nokia lumia x2 Back Panel   \n",
       "ACCEJGYYMTQR4JXY                ACM Pouch for Swipe Elite Plus   \n",
       "\n",
       "                  product_category_tree  retail_price  final_price  \\\n",
       "pid                                                                  \n",
       "MBPEJMV5GAY9SZX5  Mobiles & Accessories        1999.0        380.0   \n",
       "ACCEJGYYMTQR4JXY  Mobiles & Accessories         990.0        339.0   \n",
       "\n",
       "                                                              image  \\\n",
       "pid                                                                   \n",
       "MBPEJMV5GAY9SZX5  http://img6a.flixcart.com/image/mobile-panel/z...   \n",
       "ACCEJGYYMTQR4JXY  http://img5a.flixcart.com/image/cases-covers/p...   \n",
       "\n",
       "                  is_FK_Advantage_product  \\\n",
       "pid                                         \n",
       "MBPEJMV5GAY9SZX5                    False   \n",
       "ACCEJGYYMTQR4JXY                    False   \n",
       "\n",
       "                                                        description  \\\n",
       "pid                                                                   \n",
       "MBPEJMV5GAY9SZX5  Specifications of CASEDEAL Microsoft Nokia lum...   \n",
       "ACCEJGYYMTQR4JXY  Key Features of ACM Pouch for Swipe Elite Plus...   \n",
       "\n",
       "                  product_rating  overall_rating  \\\n",
       "pid                                                \n",
       "MBPEJMV5GAY9SZX5             NaN             NaN   \n",
       "ACCEJGYYMTQR4JXY             NaN             NaN   \n",
       "\n",
       "                                                         brand  \\\n",
       "pid                                                              \n",
       "MBPEJMV5GAY9SZX5  CASEDEAL Microsoft Nokia lumia x2 Back Panel   \n",
       "ACCEJGYYMTQR4JXY                ACM Pouch for Swipe Elite Plus   \n",
       "\n",
       "                                             product_specifications  \\\n",
       "pid                                                                   \n",
       "MBPEJMV5GAY9SZX5  {\"product_specification\"=>[{\"key\"=>\"Brand\", \"v...   \n",
       "ACCEJGYYMTQR4JXY  {\"product_specification\"=>[{\"key\"=>\"Brand\", \"v...   \n",
       "\n",
       "                  discounted_price  \n",
       "pid                                 \n",
       "MBPEJMV5GAY9SZX5            1619.0  \n",
       "ACCEJGYYMTQR4JXY             651.0  "
      ]
     },
     "execution_count": 146,
     "metadata": {},
     "output_type": "execute_result"
    }
   ],
   "source": [
    "clothing_df,jewellery_df,footwear_df,mobiles_df = get_category_df(top_4_categories)\n",
    "mobiles_df.head(2)"
   ]
  },
  {
   "cell_type": "code",
   "execution_count": 147,
   "metadata": {},
   "outputs": [
    {
     "data": {
      "text/plain": [
       "((339, 14), (5858, 14))"
      ]
     },
     "execution_count": 147,
     "metadata": {},
     "output_type": "execute_result"
    }
   ],
   "source": [
    "clothing_df = flipkart_df[flipkart_df.product_category_tree == 'Clothing']\n",
    "\n",
    "# FK_Advantage_product\n",
    "clothing_df_1 = clothing_df[clothing_df.is_FK_Advantage_product]\n",
    "\n",
    "# Non FK_Advantage_product\n",
    "clothing_df_0 = clothing_df[clothing_df.is_FK_Advantage_product == False]\n",
    "\n",
    "# Counts of advantage vs non-advantage\n",
    "clothing_df_1.shape,clothing_df_0.shape"
   ]
  },
  {
   "cell_type": "code",
   "execution_count": 148,
   "metadata": {},
   "outputs": [
    {
     "data": {
      "image/png": "[encoded data removed]",
      "text/plain": [
       "<Figure size 864x576 with 1 Axes>"
      ]
     },
     "metadata": {},
     "output_type": "display_data"
    }
   ],
   "source": [
    "# Calculate the ecdfs from observed data\n",
    "x_org_0,y_org_0 = ecdf(clothing_df_0.discounted_price)\n",
    "x_org_1,y_org_1 = ecdf(clothing_df_1.discounted_price)\n",
    "\n",
    "# Plot the original ecdfs based on observed data\n",
    "_= plt.plot(x_org_0,y_org_0,marker='.',linestyle='none')\n",
    "_= plt.plot(x_org_1,y_org_1,marker='.',linestyle='none')\n"
   ]
  },
  {
   "cell_type": "code",
   "execution_count": 151,
   "metadata": {},
   "outputs": [
    {
     "data": {
      "image/png": "[encoded data removed]",
      "text/plain": [
       "<Figure size 864x576 with 1 Axes>"
      ]
     },
     "metadata": {},
     "output_type": "display_data"
    }
   ],
   "source": [
    "# plot the original ecdfs\n",
    "plot_ecdf(clothing_df_0.discounted_price,label_name='Non_FK_Advantage')\n",
    "plot_ecdf(clothing_df_1.discounted_price,label_name='FK_Advantage')\n",
    "\n",
    "# calculate and plot the cdf from permutation samples\n",
    "plot_perm_ecdf(clothing_df_0.discounted_price,clothing_df_1.discounted_price)"
   ]
  },
  {
   "cell_type": "markdown",
   "metadata": {},
   "source": [
    "Notice how the permutation sample ECDF's overlap with the observed data, suggesting that the \n",
    "hypothesis is commensurate with the data - Discount prices for flipkart advantage products\n",
    "and non flipkart advantage products are identically distributed."
   ]
  },
  {
   "cell_type": "markdown",
   "metadata": {},
   "source": [
    "#### Does discount_price and retail_price positively correlated?"
   ]
  },
  {
   "cell_type": "code",
   "execution_count": null,
   "metadata": {},
   "outputs": [],
   "source": [
    "clothing_df=flipkart_df[flipkart_df.product_category_tree.isin(['Clothing'])]\n",
    "_=plt.hist(clothing_df[clothing_df.retail_price < 3000]['retail_price'],bins=30,density=True,label='Retail Price')\n",
    "_=plt.hist(clothing_df[clothing_df.retail_price < 3000]['discounted_price'],bins=30,density=True,alpha=0.4,label='Discounted Price')\n",
    "plt.xlabel('Retail Vs Discounted Price for Clothing category')\n",
    "plt.ylabel('Frequency')\n",
    "plt.title('Price distributions - Clothing')\n",
    "plt.legend()"
   ]
  },
  {
   "cell_type": "code",
   "execution_count": 152,
   "metadata": {},
   "outputs": [
    {
     "data": {
      "image/png": "[encoded data removed]",
      "text/plain": [
       "<Figure size 864x576 with 1 Axes>"
      ]
     },
     "metadata": {},
     "output_type": "display_data"
    }
   ],
   "source": [
    "# Identifying a linear model\n",
    "\n",
    "# Excluding the outliers\n",
    "clothing_df=clothing_df[clothing_df.retail_price < 7000] \n",
    "\n",
    "# Plotting only discounted products\n",
    "scatter_df = clothing_df[clothing_df.discounted_price > 0.0] \n",
    "_ = plt.scatter(scatter_df.retail_price,scatter_df.discounted_price)\n",
    "\n",
    "# Calculate a linear regression with least squares regression : np.polyfit\n",
    "slope,intercept = np.polyfit(scatter_df.retail_price,scatter_df.discounted_price,1)\n",
    "\n",
    "# Plot the regression line\n",
    "_ = plt.plot(scatter_df.retail_price, slope * scatter_df.retail_price + intercept,linestyle='-',color='r' )\n",
    "\n",
    "# label the axis\n",
    "_ = plt.xlabel('retail price')\n",
    "_ = plt.ylabel('discounted price')\n",
    "_ = plt.title('Retail Vs Discounted Price')"
   ]
  },
  {
   "cell_type": "code",
   "execution_count": null,
   "metadata": {},
   "outputs": [],
   "source": [
    "TO DO\n",
    "# Pairs bootstrap for a linear regression\n",
    "\n",
    "#Resammple data in paids"
   ]
  },
  {
   "cell_type": "code",
   "execution_count": null,
   "metadata": {},
   "outputs": [],
   "source": [
    "# Plot the ecdf for retail & discount price - for clothing category\n",
    "plot_ecdf(clothing_df.retail_price,label_name='Retail Price')\n",
    "plot_ecdf(clothing_df.discounted_price,label_name='Discount Price')"
   ]
  },
  {
   "cell_type": "code",
   "execution_count": null,
   "metadata": {},
   "outputs": [],
   "source": [
    "TO DO\n",
    "\n",
    "# Test - statistic = are the two prices identical ? Meaning - both the kinds \n",
    "have the same mean retail price for clothing category.\n",
    "for both FK and non FK\n"
   ]
  }
 ],
 "metadata": {
  "kernelspec": {
   "display_name": "Python 3",
   "language": "python",
   "name": "python3"
  },
  "language_info": {
   "codemirror_mode": {
    "name": "ipython",
    "version": 3
   },
   "file_extension": ".py",
   "mimetype": "text/x-python",
   "name": "python",
   "nbconvert_exporter": "python",
   "pygments_lexer": "ipython3",
   "version": "3.7.3"
  }
 },
 "nbformat": 4,
 "nbformat_minor": 2
}
